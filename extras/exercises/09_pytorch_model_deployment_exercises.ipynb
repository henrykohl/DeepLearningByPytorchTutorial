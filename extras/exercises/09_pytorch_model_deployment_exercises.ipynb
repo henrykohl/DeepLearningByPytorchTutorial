{
  "cells": [
    {
      "cell_type": "markdown",
      "metadata": {
        "id": "view-in-github",
        "colab_type": "text"
      },
      "source": [
        "<a href=\"https://colab.research.google.com/github/henrykohl/DeepLearningByPytorchTutorial/blob/master/extras/exercises/09_pytorch_model_deployment_exercises.ipynb\" target=\"_parent\"><img src=\"https://colab.research.google.com/assets/colab-badge.svg\" alt=\"Open In Colab\"/></a>"
      ]
    },
    {
      "cell_type": "markdown",
      "metadata": {
        "id": "zNqPNlYylluR"
      },
      "source": [
        "# <font color=\"red\">09. PyTorch Model Deployment Exercises</font>\n",
        "\n",
        "Welcome to the 09. PyTorch Model Deployment exercises.\n",
        "\n",
        "Your objective is to write code to satisify each of the exercises below.\n",
        "\n",
        "Some starter code has been provided to make sure you have all the resources you need.\n",
        "\n",
        "> **Note:** There may be more than one solution to each of the exercises.\n",
        "\n",
        "## Resources\n",
        "\n",
        "1. These exercises/solutions are based on [section 09. PyTorch Model Deployment](https://www.learnpytorch.io/09_pytorch_model_deployment/) of the Learn PyTorch for Deep Learning course by Zero to Mastery.\n",
        "2. See a live [walkthrough of the solutions (errors and all) on YouTube](https://youtu.be/jOX5ZCkWO-0) (but try the exercises yourself first!).\n",
        "3. See [all solutions on the course GitHub](https://github.com/mrdbourke/pytorch-deep-learning/tree/main/extras/solutions).\n",
        "\n",
        "> **Note:** The first section of this notebook is dedicated to getting various helper functions and datasets used for the exercises. The exercises start at the heading \"Exercise 1: ...\"."
      ]
    },
    {
      "cell_type": "markdown",
      "metadata": {
        "id": "sf8ab9cyHTzU"
      },
      "source": [
        "### Get various imports and helper functions\n",
        "\n",
        "The code in the following cells prepares imports and data for the exercises below. They are taken from [09. PyTorch Model Deployment](https://www.learnpytorch.io/09_pytorch_model_deployment/)."
      ]
    },
    {
      "cell_type": "markdown",
      "source": [
        "torch version: 1.12.1+cu113\n",
        "\n",
        "torchvision version: 0.13.1+cu113"
      ],
      "metadata": {
        "id": "tzJsMaRpKD5g"
      }
    },
    {
      "cell_type": "code",
      "execution_count": 6,
      "metadata": {
        "colab": {
          "base_uri": "https://localhost:8080/"
        },
        "id": "ChRaHUSJ8DYZ",
        "outputId": "9cdb7521-f636-4807-8661-19b378c10ffc"
      },
      "outputs": [
        {
          "output_type": "stream",
          "name": "stdout",
          "text": [
            "[INFO] torch/torchvision versions not as required, installing nightly versions.\n",
            "Looking in indexes: https://pypi.org/simple, https://us-python.pkg.dev/colab-wheels/public/simple/, https://download.pytorch.org/whl/cu113\n",
            "Requirement already satisfied: torch in /usr/local/lib/python3.10/dist-packages (2.0.1+cu118)\n",
            "Requirement already satisfied: torchvision in /usr/local/lib/python3.10/dist-packages (0.15.2+cu118)\n",
            "Requirement already satisfied: torchaudio in /usr/local/lib/python3.10/dist-packages (2.0.2+cu118)\n",
            "Requirement already satisfied: filelock in /usr/local/lib/python3.10/dist-packages (from torch) (3.12.0)\n",
            "Requirement already satisfied: typing-extensions in /usr/local/lib/python3.10/dist-packages (from torch) (4.5.0)\n",
            "Requirement already satisfied: sympy in /usr/local/lib/python3.10/dist-packages (from torch) (1.11.1)\n",
            "Requirement already satisfied: networkx in /usr/local/lib/python3.10/dist-packages (from torch) (3.1)\n",
            "Requirement already satisfied: jinja2 in /usr/local/lib/python3.10/dist-packages (from torch) (3.1.2)\n",
            "Requirement already satisfied: triton==2.0.0 in /usr/local/lib/python3.10/dist-packages (from torch) (2.0.0)\n",
            "Requirement already satisfied: cmake in /usr/local/lib/python3.10/dist-packages (from triton==2.0.0->torch) (3.25.2)\n",
            "Requirement already satisfied: lit in /usr/local/lib/python3.10/dist-packages (from triton==2.0.0->torch) (16.0.5)\n",
            "Requirement already satisfied: numpy in /usr/local/lib/python3.10/dist-packages (from torchvision) (1.22.4)\n",
            "Requirement already satisfied: requests in /usr/local/lib/python3.10/dist-packages (from torchvision) (2.27.1)\n",
            "Requirement already satisfied: pillow!=8.3.*,>=5.3.0 in /usr/local/lib/python3.10/dist-packages (from torchvision) (8.4.0)\n",
            "Requirement already satisfied: MarkupSafe>=2.0 in /usr/local/lib/python3.10/dist-packages (from jinja2->torch) (2.1.2)\n",
            "Requirement already satisfied: urllib3<1.27,>=1.21.1 in /usr/local/lib/python3.10/dist-packages (from requests->torchvision) (1.26.15)\n",
            "Requirement already satisfied: certifi>=2017.4.17 in /usr/local/lib/python3.10/dist-packages (from requests->torchvision) (2022.12.7)\n",
            "Requirement already satisfied: charset-normalizer~=2.0.0 in /usr/local/lib/python3.10/dist-packages (from requests->torchvision) (2.0.12)\n",
            "Requirement already satisfied: idna<4,>=2.5 in /usr/local/lib/python3.10/dist-packages (from requests->torchvision) (3.4)\n",
            "Requirement already satisfied: mpmath>=0.19 in /usr/local/lib/python3.10/dist-packages (from sympy->torch) (1.3.0)\n",
            "torch version: 2.0.1+cu118\n",
            "torchvision version: 0.15.2+cu118\n"
          ]
        }
      ],
      "source": [
        "# For this notebook to run with updated APIs, we need torch 1.12+ and torchvision 0.13+\n",
        "try:\n",
        "    import torch\n",
        "    import torchvision\n",
        "    assert int(torch.__version__.split(\".\")[1]) >= 12, \"torch version should be 1.12+\"\n",
        "    assert int(torchvision.__version__.split(\".\")[1]) >= 13, \"torchvision version should be 0.13+\"\n",
        "    print(f\"torch version: {torch.__version__}\")\n",
        "    print(f\"torchvision version: {torchvision.__version__}\")\n",
        "except:\n",
        "    print(f\"[INFO] torch/torchvision versions not as required, installing nightly versions.\")\n",
        "    !pip3 install -U torch torchvision torchaudio --extra-index-url https://download.pytorch.org/whl/cu113\n",
        "    import torch\n",
        "    import torchvision\n",
        "    print(f\"torch version: {torch.__version__}\")\n",
        "    print(f\"torchvision version: {torchvision.__version__}\")\n"
      ]
    },
    {
      "cell_type": "code",
      "execution_count": 7,
      "metadata": {
        "id": "Y5H5P8EjCNGK",
        "colab": {
          "base_uri": "https://localhost:8080/"
        },
        "outputId": "93ed7a88-a754-44bf-bd28-98cd2e49541c"
      },
      "outputs": [
        {
          "output_type": "stream",
          "name": "stdout",
          "text": [
            "[INFO] Couldn't find torchinfo... installing it.\n",
            "[INFO] Couldn't find going_modular or helper_functions scripts... downloading them from GitHub.\n",
            "Cloning into 'DeepLearningByPytorchTutorial'...\n",
            "remote: Enumerating objects: 927, done.\u001b[K\n",
            "remote: Counting objects: 100% (75/75), done.\u001b[K\n",
            "remote: Compressing objects: 100% (75/75), done.\u001b[K\n",
            "remote: Total 927 (delta 32), reused 0 (delta 0), pack-reused 852\u001b[K\n",
            "Receiving objects: 100% (927/927), 143.58 MiB | 32.33 MiB/s, done.\n",
            "Resolving deltas: 100% (548/548), done.\n",
            "Updating files: 100% (48/48), done.\n"
          ]
        }
      ],
      "source": [
        "# Continue with regular imports\n",
        "import matplotlib.pyplot as plt\n",
        "import torch\n",
        "import torchvision\n",
        "\n",
        "from torch import nn\n",
        "from torchvision import transforms\n",
        "\n",
        "# Try to get torchinfo, install it if it doesn't work\n",
        "try:\n",
        "    from torchinfo import summary\n",
        "except:\n",
        "    print(\"[INFO] Couldn't find torchinfo... installing it.\")\n",
        "    !pip install -q torchinfo\n",
        "    from torchinfo import summary\n",
        "\n",
        "# Try to import the going_modular directory, download it from GitHub if it doesn't work\n",
        "try:\n",
        "    from going_modular.going_modular import data_setup, engine\n",
        "    from helper_functions import download_data, set_seeds, plot_loss_curves\n",
        "except:\n",
        "    # Get the going_modular scripts\n",
        "    print(\"[INFO] Couldn't find going_modular or helper_functions scripts... downloading them from GitHub.\")\n",
        "    # !git clone https://github.com/mrdbourke/pytorch-deep-learning\n",
        "    # !mv pytorch-deep-learning/going_modular .\n",
        "    # !mv pytorch-deep-learning/helper_functions.py . # get the helper_functions.py script\n",
        "    # !rm -rf pytorch-deep-learning\n",
        "    !git clone https://github.com/henrykohl/DeepLearningByPytorchTutorial\n",
        "    !mv DeepLearningByPytorchTutorial/going_modular .\n",
        "    !mv DeepLearningByPytorchTutorial/helper_functions.py . # get the helper_functions.py script\n",
        "    !rm -rf DeepLearningByPytorchTutorial\n",
        "    from going_modular.going_modular import data_setup, engine\n",
        "    from helper_functions import download_data, set_seeds, plot_loss_curves"
      ]
    },
    {
      "cell_type": "code",
      "execution_count": 8,
      "metadata": {
        "colab": {
          "base_uri": "https://localhost:8080/",
          "height": 36
        },
        "id": "bE1AAH_uCjiP",
        "outputId": "993951b5-60e3-45e3-aedc-9c75e340e17d"
      },
      "outputs": [
        {
          "output_type": "execute_result",
          "data": {
            "text/plain": [
              "'cpu'"
            ],
            "application/vnd.google.colaboratory.intrinsic+json": {
              "type": "string"
            }
          },
          "metadata": {},
          "execution_count": 8
        }
      ],
      "source": [
        "device = \"cuda\" if torch.cuda.is_available() else \"cpu\"\n",
        "device"
      ]
    },
    {
      "cell_type": "markdown",
      "metadata": {
        "id": "GmS5yuvxCpLp"
      },
      "source": [
        "### Get data\n",
        "\n",
        "Want to download the data we've been using in PyTorch Model Deployment: https://www.learnpytorch.io/09_pytorch_model_deployment/#1-getting-data"
      ]
    },
    {
      "cell_type": "code",
      "execution_count": null,
      "metadata": {
        "colab": {
          "base_uri": "https://localhost:8080/"
        },
        "id": "dm772wqgCzN9",
        "outputId": "9462a45a-52e3-49e6-a854-7b6b8eb8fbb6"
      },
      "outputs": [
        {
          "output_type": "stream",
          "name": "stdout",
          "text": [
            "[INFO] data/pizza_steak_sushi directory exists, skipping download.\n"
          ]
        },
        {
          "output_type": "execute_result",
          "data": {
            "text/plain": [
              "PosixPath('data/pizza_steak_sushi')"
            ]
          },
          "metadata": {},
          "execution_count": 66
        }
      ],
      "source": [
        "# Download pizza, steak, sushi images from GitHub\n",
        "# image_path = download_data(source=\"https://github.com/mrdbourke/pytorch-deep-learning/raw/main/data/pizza_steak_sushi_20_percent.zip\",\n",
        "#                            destination=\"pizza_steak_sushi\")\n",
        "# image_path\n",
        "\n",
        "image_path = download_data(source=\"https://github.com/henrykohl/DeepLearningByPytorchTutorial/raw/master/data/pizza_steak_sushi_20_percent.zip\",\n",
        "                           destination=\"pizza_steak_sushi\")\n",
        "image_path"
      ]
    },
    {
      "cell_type": "code",
      "execution_count": null,
      "metadata": {
        "id": "r1ML2c-dCzCi"
      },
      "outputs": [],
      "source": [
        "# Setup directory paths to train and test images\n",
        "train_dir = image_path / \"train\"\n",
        "test_dir = image_path / \"test\""
      ]
    },
    {
      "cell_type": "markdown",
      "metadata": {
        "id": "nNBZ_2h_Cy86"
      },
      "source": [
        "### Preprocess data\n",
        "\n",
        "Turn images into tensors using same code as PyTorch Paper Replicating section 2.1 and 2.2: https://www.learnpytorch.io/08_pytorch_paper_replicating/#21-prepare-transforms-for-images"
      ]
    },
    {
      "cell_type": "code",
      "execution_count": null,
      "metadata": {
        "colab": {
          "base_uri": "https://localhost:8080/"
        },
        "id": "mU0T4gP3DJdF",
        "outputId": "246a03e1-2455-451a-d22c-6200811396a6"
      },
      "outputs": [
        {
          "output_type": "stream",
          "name": "stdout",
          "text": [
            "Manually created transforms: Compose(\n",
            "    Resize(size=(224, 224), interpolation=bilinear, max_size=None, antialias=warn)\n",
            "    ToTensor()\n",
            ")\n"
          ]
        }
      ],
      "source": [
        "# Create image size (from Table 3 in the ViT paper)\n",
        "IMG_SIZE = 224\n",
        "\n",
        "# Create transform pipeline manually\n",
        "manual_transforms = transforms.Compose([\n",
        "    transforms.Resize((IMG_SIZE, IMG_SIZE)),\n",
        "    transforms.ToTensor(),\n",
        "])\n",
        "print(f\"Manually created transforms: {manual_transforms}\")"
      ]
    },
    {
      "cell_type": "code",
      "execution_count": null,
      "metadata": {
        "colab": {
          "base_uri": "https://localhost:8080/"
        },
        "id": "W4vWgIprDJau",
        "outputId": "00fd0f2c-e0c7-4f02-b399-367024f20e72"
      },
      "outputs": [
        {
          "output_type": "execute_result",
          "data": {
            "text/plain": [
              "(<torch.utils.data.dataloader.DataLoader at 0x7f75f4b1f1f0>,\n",
              " <torch.utils.data.dataloader.DataLoader at 0x7f75f4b1fe80>,\n",
              " ['pizza', 'steak', 'sushi'])"
            ]
          },
          "metadata": {},
          "execution_count": 69
        }
      ],
      "source": [
        "# Set the batch size\n",
        "BATCH_SIZE = 32 # this is lower than the ViT paper but it's because we're starting small\n",
        "\n",
        "# Create data loaders\n",
        "train_dataloader, test_dataloader, class_names = data_setup.create_dataloaders(\n",
        "    train_dir=train_dir,\n",
        "    test_dir=test_dir,\n",
        "    transform=manual_transforms, # use manually created transforms\n",
        "    batch_size=BATCH_SIZE\n",
        ")\n",
        "\n",
        "train_dataloader, test_dataloader, class_names"
      ]
    },
    {
      "cell_type": "code",
      "execution_count": null,
      "metadata": {
        "colab": {
          "base_uri": "https://localhost:8080/"
        },
        "id": "u7eLIFHyDJRr",
        "outputId": "64bb8052-1e4a-4e7b-df06-f1925cf7c04d"
      },
      "outputs": [
        {
          "output_type": "execute_result",
          "data": {
            "text/plain": [
              "(torch.Size([3, 224, 224]), tensor(2))"
            ]
          },
          "metadata": {},
          "execution_count": 70
        }
      ],
      "source": [
        "# Get a batch of images\n",
        "image_batch, label_batch = next(iter(train_dataloader))\n",
        "\n",
        "# Get a single image from the batch\n",
        "image, label = image_batch[0], label_batch[0]\n",
        "\n",
        "# View the batch shapes\n",
        "image.shape, label"
      ]
    },
    {
      "cell_type": "code",
      "execution_count": null,
      "metadata": {
        "colab": {
          "base_uri": "https://localhost:8080/",
          "height": 428
        },
        "id": "2yyNHCmCDbSR",
        "outputId": "8007ef5d-9fed-486f-a0ca-d6ad9736c3a0"
      },
      "outputs": [
        {
          "output_type": "display_data",
          "data": {
            "text/plain": [
              "<Figure size 640x480 with 1 Axes>"
            ],
            "image/png": "[encoded data removed]"
          },
          "metadata": {}
        }
      ],
      "source": [
        "# Plot image with matplotlib\n",
        "plt.imshow(image.permute(1, 2, 0)) # rearrange image dimensions to suit matplotlib [color_channels, height, width] -> [height, width, color_channels]\n",
        "plt.title(class_names[label])\n",
        "plt.axis(False);"
      ]
    },
    {
      "cell_type": "markdown",
      "metadata": {
        "id": "nwmoMhW8IqSu"
      },
      "source": [
        "## Exercise 1. Make and time predictions with both feature extractor models on the test dataset using the GPU (`device=\"cuda\"`).\n",
        "\n",
        "* Compare the model's prediction times on GPU vs CPU - does this close the gap between them? As in, does making predictions on the GPU make the ViT feature extractor prediction times closer to the EffNetB2 feature extractor prediction times?\n",
        "* You'll find code to do these steps in [section 5. Making predictions with our trained models and timing them](https://www.learnpytorch.io/09_pytorch_model_deployment/#5-making-predictions-with-our-trained-models-and-timing-them) and [section 6. Comparing model results, prediction times and size](https://www.learnpytorch.io/09_pytorch_model_deployment/#6-comparing-model-results-prediction-times-and-size)."
      ]
    },
    {
      "cell_type": "code",
      "execution_count": null,
      "metadata": {
        "id": "pmDd_YZ7VSrL"
      },
      "outputs": [],
      "source": [
        "# TODO: your code"
      ]
    },
    {
      "cell_type": "markdown",
      "source": [
        "### <font color=\"purple\">Train two models on Pizza, Steak, Sushi data\n",
        "\n",
        "<font color=\"purple\">Need:\n",
        "* <font color=\"purple\">Trained EffNetB2 feature extractor\n",
        "* <font color=\"purple\">Trained ViT feature extractor"
      ],
      "metadata": {
        "id": "hZRTFvjXZB02"
      }
    },
    {
      "cell_type": "markdown",
      "source": [
        "### <font color=\"purple\">EffNetB2\n",
        "\n",
        "<font color=\"purple\">See function creation source here: https://www.learnpytorch.io/09_pytorch_model_deployment/#31-creating-a-function-to-make-an-effnetb2-feature-extractor"
      ],
      "metadata": {
        "id": "IyGUivI7Z_Ta"
      }
    },
    {
      "cell_type": "code",
      "source": [
        "def create_effnetb2_model(num_classes:int=3,\n",
        "              seed:int=42):\n",
        "  \"\"\"Creates an EfficientNetB2 feature extractor model and transforms.\n",
        "\n",
        "    Args:\n",
        "      num_classes (int, optional): number of classes in the classifier head.\n",
        "          Defaults to 3.\n",
        "      seed (int, optional): random seed value. Defaults to 42.\n",
        "\n",
        "    Returns:\n",
        "      model (torch.nn.Module): EffNetB2 feature extractor model.\n",
        "      transforms (torchvision.transforms): EffNetB2 image transforms.\n",
        "  \"\"\"\n",
        "  # 1, 2, 3. Create EffNetB2 pretrained weights, transforms and model\n",
        "  weights = torchvision.models.EfficientNet_B2_Weights.DEFAULT\n",
        "  transforms = weights.transforms()\n",
        "  model = torchvision.models.efficientnet_b2(weights=weights)\n",
        "\n",
        "  # 4. Freeze all layers in base model\n",
        "  for param in model.parameters():\n",
        "    param.requires_grad = False\n",
        "\n",
        "\n",
        "  # 5. Change classifier head with random seed for reproducibility\n",
        "  torch.manual_seed(seed)\n",
        "  model.classifier = nn.Sequential(\n",
        "      nn.Dropout(p=0.3,inplace=True),\n",
        "      nn.Linear(in_features=1408,out_features=num_classes)\n",
        "  )\n",
        "\n",
        "  return model, transforms"
      ],
      "metadata": {
        "id": "bX_-V0q4aIpZ"
      },
      "execution_count": null,
      "outputs": []
    },
    {
      "cell_type": "code",
      "source": [
        "effnetb2, effnetb2_transforms = create_effnetb2_model()\n",
        "# effnetb2\n",
        "effnetb2_transforms"
      ],
      "metadata": {
        "id": "j_K7HwMYaIkE",
        "outputId": "0856cf84-05fa-4d54-da1d-474e5414fcbb",
        "colab": {
          "base_uri": "https://localhost:8080/"
        }
      },
      "execution_count": null,
      "outputs": [
        {
          "output_type": "execute_result",
          "data": {
            "text/plain": [
              "ImageClassification(\n",
              "    crop_size=[288]\n",
              "    resize_size=[288]\n",
              "    mean=[0.485, 0.456, 0.406]\n",
              "    std=[0.229, 0.224, 0.225]\n",
              "    interpolation=InterpolationMode.BICUBIC\n",
              ")"
            ]
          },
          "metadata": {},
          "execution_count": 81
        }
      ]
    },
    {
      "cell_type": "code",
      "source": [
        "train_dir, test_dir"
      ],
      "metadata": {
        "id": "PSUO5iiGaH-h",
        "outputId": "02a67d07-19b1-4b0a-dff2-27db4ec6e235",
        "colab": {
          "base_uri": "https://localhost:8080/"
        }
      },
      "execution_count": null,
      "outputs": [
        {
          "output_type": "execute_result",
          "data": {
            "text/plain": [
              "(PosixPath('data/pizza_steak_sushi/train'),\n",
              " PosixPath('data/pizza_steak_sushi/test'))"
            ]
          },
          "metadata": {},
          "execution_count": 82
        }
      ]
    },
    {
      "cell_type": "code",
      "source": [
        "# Create dataloaders for EffNetB2\n",
        "from going_modular.going_modular import data_setup\n",
        "\n",
        "BATCH_SIZE = 32\n",
        "train_dataloader_effnetb2, test_dataloader_effnetb2, class_names = data_setup.create_dataloaders(train_dir=train_dir,\n",
        "                                                      test_dir=test_dir,\n",
        "                                                      transform=effnetb2_transforms,\n",
        "                                                      batch_size=BATCH_SIZE)\n",
        "\n",
        "len(train_dataloader_effnetb2), len(test_dataloader_effnetb2), class_names"
      ],
      "metadata": {
        "id": "JfMKwuKwk5ze",
        "outputId": "a6da04c6-c270-4122-d12f-0007e6d639ef",
        "colab": {
          "base_uri": "https://localhost:8080/"
        }
      },
      "execution_count": null,
      "outputs": [
        {
          "output_type": "execute_result",
          "data": {
            "text/plain": [
              "(15, 5, ['pizza', 'steak', 'sushi'])"
            ]
          },
          "metadata": {},
          "execution_count": 83
        }
      ]
    },
    {
      "cell_type": "code",
      "source": [
        "# Train EffNetB2 feature extractor\n",
        "from going_modular.going_modular import engine\n",
        "\n",
        "optimizer = torch.optim.Adam(params=effnetb2.parameters(),lr=1e-3)\n",
        "\n",
        "loss_fn = torch.nn.CrossEntropyLoss()\n",
        "# loss_fn = torch.nn.CrossEntropyLoss(label_smoothing=0.1)\n",
        "\n",
        "set_seeds()\n",
        "effnetb2_results = engine.train(model=effnetb2,\n",
        "                  train_dataloader=train_dataloader_effnetb2,\n",
        "                  test_dataloader=test_dataloader_effnetb2,\n",
        "                  epochs=10,\n",
        "                  optimizer=optimizer,\n",
        "                  loss_fn=loss_fn,\n",
        "                  device=device)"
      ],
      "metadata": {
        "id": "T4GM7nSok5jp",
        "outputId": "3bb355b7-63cf-4595-8379-68cb32d7bb9f",
        "colab": {
          "base_uri": "https://localhost:8080/",
          "height": 234,
          "referenced_widgets": [
            "a373a95ed62c46ffbe4421fc7614397d",
            "59d6614f81324c098405266d5baf47d9",
            "ed4f9cbde4bc407386dc844b22436845",
            "304f77fd193a4c9781fb2766df443f2c",
            "18b48498cec043cba689858c4229ac9e",
            "a70356da9f46438e87dc6a67f7fd8a39",
            "022440438e244be2a72512ff4f72eb39",
            "c678be19cced435aae2c6fbd42ee6acc",
            "0fec468f1f19420ba0a7fa3c459fd4a6",
            "3b1216cea7c5451abb82bbc749ff79ad",
            "6ba1bc2493684fb3a8e554c7d4e1396f"
          ]
        }
      },
      "execution_count": null,
      "outputs": [
        {
          "output_type": "display_data",
          "data": {
            "text/plain": [
              "  0%|          | 0/10 [00:00<?, ?it/s]"
            ],
            "application/vnd.jupyter.widget-view+json": {
              "version_major": 2,
              "version_minor": 0,
              "model_id": "a373a95ed62c46ffbe4421fc7614397d"
            }
          },
          "metadata": {}
        },
        {
          "output_type": "stream",
          "name": "stdout",
          "text": [
            "Epoch: 1 | train_loss: 0.9804 | train_acc: 0.5646 | test_loss: 0.7385 | test_acc: 0.9284\n",
            "Epoch: 2 | train_loss: 0.6843 | train_acc: 0.8729 | test_loss: 0.5931 | test_acc: 0.9347\n",
            "Epoch: 3 | train_loss: 0.5644 | train_acc: 0.8979 | test_loss: 0.4820 | test_acc: 0.9347\n",
            "Epoch: 4 | train_loss: 0.4720 | train_acc: 0.8667 | test_loss: 0.4185 | test_acc: 0.9443\n",
            "Epoch: 5 | train_loss: 0.4309 | train_acc: 0.8729 | test_loss: 0.3725 | test_acc: 0.9568\n",
            "Epoch: 6 | train_loss: 0.3748 | train_acc: 0.8938 | test_loss: 0.3456 | test_acc: 0.9443\n",
            "Epoch: 7 | train_loss: 0.3367 | train_acc: 0.9083 | test_loss: 0.3123 | test_acc: 0.9506\n",
            "Epoch: 8 | train_loss: 0.3237 | train_acc: 0.9250 | test_loss: 0.3014 | test_acc: 0.9688\n",
            "Epoch: 9 | train_loss: 0.3657 | train_acc: 0.8625 | test_loss: 0.2753 | test_acc: 0.9381\n",
            "Epoch: 10 | train_loss: 0.2551 | train_acc: 0.9437 | test_loss: 0.2639 | test_acc: 0.9597\n"
          ]
        }
      ]
    },
    {
      "cell_type": "code",
      "source": [
        "from helper_functions import plot_loss_curves\n",
        "\n",
        "plot_loss_curves(effnetb2_results)"
      ],
      "metadata": {
        "id": "jBkmpkIfk5UQ",
        "colab": {
          "base_uri": "https://localhost:8080/",
          "height": 580
        },
        "outputId": "86627c11-5d36-4af1-b170-0374dbd7bbc5"
      },
      "execution_count": null,
      "outputs": [
        {
          "output_type": "display_data",
          "data": {
            "text/plain": [
              "<Figure size 1500x700 with 2 Axes>"
            ],
            "image/png": "[encoded data removed]"
          },
          "metadata": {}
        }
      ]
    },
    {
      "cell_type": "markdown",
      "source": [
        "### <font color=\"purple\">Preparing and training ViT feature extractor"
      ],
      "metadata": {
        "id": "ghehbBUSq4di"
      }
    },
    {
      "cell_type": "code",
      "source": [
        "def create_vit_model(num_classes:int=3,\n",
        "                     seed:int=42):\n",
        "  \"\"\"Creates a ViT-B/16 feature extractor model and transforms.\n",
        "\n",
        "    Args:\n",
        "      num_classes (int, optional): number of target classes. Defaults to 3.\n",
        "      seed (int, optional): random seed value for output layer. Defaults to 42.\n",
        "\n",
        "    Returns:\n",
        "      model (torch.nn.Module): ViT-B/16 feature extractor model.\n",
        "      transforms (torchvision.transforms): ViT-B/16 image transforms.\n",
        "  \"\"\"\n",
        "  # Create ViT_B_16 pretrained weights, transforms and model\n",
        "  weights = torchvision.models.ViT_B_16_Weights.DEFAULT\n",
        "  transforms = weights.transforms()\n",
        "  model = torchvision.models.vit_b_16(weights=weights)\n",
        "\n",
        "  # Freeze all layers in model\n",
        "  for param in model.parameters():\n",
        "    param.requires_grad = False\n",
        "\n",
        "  # Change classifier head to suit our needs (this will be trainable)\n",
        "  torch.manual_seed(seed)\n",
        "  model.classifier = nn.Sequential(\n",
        "      nn.Dropout(p=0.3,inplace=True),\n",
        "      nn.Linear(in_features=768,      # keep this the same as original model\n",
        "            out_features=num_classes) # update to reflect target number of classes\n",
        "  )\n",
        "\n",
        "  return model, transforms\n"
      ],
      "metadata": {
        "id": "LvYZXnS_k5C_"
      },
      "execution_count": 4,
      "outputs": []
    },
    {
      "cell_type": "code",
      "source": [
        "vit, vit_transforms = create_vit_model()\n",
        "# vit\n",
        "vit_transforms"
      ],
      "metadata": {
        "colab": {
          "base_uri": "https://localhost:8080/",
          "height": 376
        },
        "id": "Z4XrMb0nzJSi",
        "outputId": "ec4df026-d549-488d-e1a2-0bdb614a4518"
      },
      "execution_count": 5,
      "outputs": [
        {
          "output_type": "stream",
          "name": "stderr",
          "text": [
            "Downloading: \"https://download.pytorch.org/models/vit_b_16-c867db91.pth\" to /root/.cache/torch/hub/checkpoints/vit_b_16-c867db91.pth\n",
            "100%|██████████| 330M/330M [00:03<00:00, 90.2MB/s]\n"
          ]
        },
        {
          "output_type": "error",
          "ename": "NameError",
          "evalue": "ignored",
          "traceback": [
            "\u001b[0;31m---------------------------------------------------------------------------\u001b[0m",
            "\u001b[0;31mNameError\u001b[0m                                 Traceback (most recent call last)",
            "\u001b[0;32m<ipython-input-5-ca7af4e7b473>\u001b[0m in \u001b[0;36m<cell line: 1>\u001b[0;34m()\u001b[0m\n\u001b[0;32m----> 1\u001b[0;31m \u001b[0mvit\u001b[0m\u001b[0;34m,\u001b[0m \u001b[0mvit_transforms\u001b[0m \u001b[0;34m=\u001b[0m \u001b[0mcreate_vit_model\u001b[0m\u001b[0;34m(\u001b[0m\u001b[0;34m)\u001b[0m\u001b[0;34m\u001b[0m\u001b[0;34m\u001b[0m\u001b[0m\n\u001b[0m\u001b[1;32m      2\u001b[0m \u001b[0;31m# vit\u001b[0m\u001b[0;34m\u001b[0m\u001b[0;34m\u001b[0m\u001b[0m\n\u001b[1;32m      3\u001b[0m \u001b[0mvit_transforms\u001b[0m\u001b[0;34m\u001b[0m\u001b[0;34m\u001b[0m\u001b[0m\n",
            "\u001b[0;32m<ipython-input-4-e4a8c1bd74df>\u001b[0m in \u001b[0;36mcreate_vit_model\u001b[0;34m(num_classes, seed)\u001b[0m\n\u001b[1;32m     22\u001b[0m   \u001b[0;31m# Change classifier head to suit our needs (this will be trainable)\u001b[0m\u001b[0;34m\u001b[0m\u001b[0;34m\u001b[0m\u001b[0m\n\u001b[1;32m     23\u001b[0m   \u001b[0mtorch\u001b[0m\u001b[0;34m.\u001b[0m\u001b[0mmanual_seed\u001b[0m\u001b[0;34m(\u001b[0m\u001b[0mseed\u001b[0m\u001b[0;34m)\u001b[0m\u001b[0;34m\u001b[0m\u001b[0;34m\u001b[0m\u001b[0m\n\u001b[0;32m---> 24\u001b[0;31m   model.classifier = nn.Sequential(\n\u001b[0m\u001b[1;32m     25\u001b[0m       \u001b[0mnn\u001b[0m\u001b[0;34m.\u001b[0m\u001b[0mDropout\u001b[0m\u001b[0;34m(\u001b[0m\u001b[0mp\u001b[0m\u001b[0;34m=\u001b[0m\u001b[0;36m0.3\u001b[0m\u001b[0;34m,\u001b[0m\u001b[0minplace\u001b[0m\u001b[0;34m=\u001b[0m\u001b[0;32mTrue\u001b[0m\u001b[0;34m)\u001b[0m\u001b[0;34m,\u001b[0m\u001b[0;34m\u001b[0m\u001b[0;34m\u001b[0m\u001b[0m\n\u001b[1;32m     26\u001b[0m       nn.Linear(in_features=768,      # keep this the same as original model\n",
            "\u001b[0;31mNameError\u001b[0m: name 'nn' is not defined"
          ]
        }
      ]
    },
    {
      "cell_type": "code",
      "source": [
        "# Create dataloaders for ViT\n",
        "from going_modular.going_modular import data_setup\n",
        "\n",
        "BATCH_SIZE = 32\n",
        "train_dataloader_vit, test_dataloader_vit, class_names = data_setup.create_dataloaders(train_dir=train_dir,\n",
        "                                                 test_dir=test_dir,\n",
        "                                                 transform=vit_transforms ,\n",
        "                                                 batch_size=BATCH_SIZE)\n",
        "\n",
        "\n",
        "\n",
        "len(train_dataloader_vit), len(test_dataloader_vit), class_names"
      ],
      "metadata": {
        "colab": {
          "base_uri": "https://localhost:8080/"
        },
        "id": "_RRQ2SXezI-0",
        "outputId": "f8dd516b-bd1e-402e-a93b-28ade950219e"
      },
      "execution_count": null,
      "outputs": [
        {
          "output_type": "execute_result",
          "data": {
            "text/plain": [
              "(15, 5, ['pizza', 'steak', 'sushi'])"
            ]
          },
          "metadata": {},
          "execution_count": 90
        }
      ]
    },
    {
      "cell_type": "code",
      "source": [
        "# Train ViT feature extractor\n",
        "from going_modular.going_modular import engine\n",
        "\n",
        "optimizer = torch.optim.Adam(params=vit.parameters(),lr=1e-3)\n",
        "\n",
        "loss_fn = torch.nn.CrossEntropyLoss()\n",
        "\n",
        "set_seeds()\n",
        "vit_results = engine.train(model=vit,\n",
        "                train_dataloader=train_dataloader_vit,\n",
        "                test_dataloader=test_dataloader_vit,\n",
        "                epochs=10,\n",
        "                optimizer=optimizer,\n",
        "                loss_fn=loss_fn,\n",
        "                device=device)"
      ],
      "metadata": {
        "id": "yxrVbNvcCV-V"
      },
      "execution_count": null,
      "outputs": []
    },
    {
      "cell_type": "code",
      "source": [
        "plot_loss_curves(vit_results)"
      ],
      "metadata": {
        "id": "YkxI8BjsCVxA"
      },
      "execution_count": null,
      "outputs": []
    },
    {
      "cell_type": "markdown",
      "source": [
        "### <font color=\"purple\">Get all the images from the test path\n",
        "\n",
        "<font color=\"purple\">Want to make predictions acrosss the test dataset images and time them on GPU to see if they're faster on GPU or CPU..."
      ],
      "metadata": {
        "id": "fPlXEW67Hk0k"
      }
    },
    {
      "cell_type": "code",
      "source": [
        "test_dir"
      ],
      "metadata": {
        "colab": {
          "base_uri": "https://localhost:8080/"
        },
        "id": "rB83mF0DI1Yr",
        "outputId": "f263048a-210b-4fb5-9801-d2ecff901f3f"
      },
      "execution_count": null,
      "outputs": [
        {
          "output_type": "execute_result",
          "data": {
            "text/plain": [
              "PosixPath('data/pizza_steak_sushi/test')"
            ]
          },
          "metadata": {},
          "execution_count": 94
        }
      ]
    },
    {
      "cell_type": "code",
      "source": [
        "from pathlib import Path\n",
        "test_image_paths = list(test_dir.glob(\"*/*.jpg\")) # list(Path(test_dir).glob(\"*/*.jpg\"))寫法有點多餘，test_dir就是PosixPath\n",
        "len(test_image_paths)"
      ],
      "metadata": {
        "colab": {
          "base_uri": "https://localhost:8080/"
        },
        "id": "uBveaAFMHsO0",
        "outputId": "c9971001-5f15-462f-e2ef-3c7cd82a81c8"
      },
      "execution_count": null,
      "outputs": [
        {
          "output_type": "execute_result",
          "data": {
            "text/plain": [
              "150"
            ]
          },
          "metadata": {},
          "execution_count": 95
        }
      ]
    },
    {
      "cell_type": "code",
      "source": [
        "test_image_paths[:5]"
      ],
      "metadata": {
        "colab": {
          "base_uri": "https://localhost:8080/"
        },
        "id": "s032iLXIHsGw",
        "outputId": "e1ce35bd-75ab-4950-c5a3-b7c5a1ab6e77"
      },
      "execution_count": null,
      "outputs": [
        {
          "output_type": "execute_result",
          "data": {
            "text/plain": [
              "[PosixPath('data/pizza_steak_sushi/test/sushi/3494950.jpg'),\n",
              " PosixPath('data/pizza_steak_sushi/test/sushi/2903125.jpg'),\n",
              " PosixPath('data/pizza_steak_sushi/test/sushi/3227791.jpg'),\n",
              " PosixPath('data/pizza_steak_sushi/test/sushi/2394442.jpg'),\n",
              " PosixPath('data/pizza_steak_sushi/test/sushi/2352914.jpg')]"
            ]
          },
          "metadata": {},
          "execution_count": 96
        }
      ]
    },
    {
      "cell_type": "markdown",
      "source": [
        "### <font color=\"purple\">Get function for making predictions and timing them\n",
        "\n",
        "<font color=\"purple\">See the source here: https://www.learnpytorch.io/09_pytorch_model_deployment/#51-creating-a-function-to-make-predictions-across-the-test-dataset"
      ],
      "metadata": {
        "id": "NC6b_KzdLPuL"
      }
    },
    {
      "cell_type": "code",
      "source": [
        "class_names"
      ],
      "metadata": {
        "colab": {
          "base_uri": "https://localhost:8080/"
        },
        "id": "Vo1cayLZHr-p",
        "outputId": "74626457-0401-4ec5-b5df-93870e8bf253"
      },
      "execution_count": null,
      "outputs": [
        {
          "output_type": "execute_result",
          "data": {
            "text/plain": [
              "['pizza', 'steak', 'sushi']"
            ]
          },
          "metadata": {},
          "execution_count": 97
        }
      ]
    },
    {
      "cell_type": "code",
      "source": [
        "device = \"cuda\" if torch.cuda.is_available() else \"cpu\""
      ],
      "metadata": {
        "id": "MWuMyqAVHr3J"
      },
      "execution_count": null,
      "outputs": []
    },
    {
      "cell_type": "code",
      "source": [
        "import pathlib\n",
        "import torch\n",
        "\n",
        "from PIL import Image\n",
        "from timeit import default_timer as timer\n",
        "from tqdm.auto import tqdm\n",
        "from typing import List, Dict\n",
        "\n",
        "# 1. Create a function to return a list of dictionaries with sample, truth label, prediction, prediction probability and prediction time\n",
        "def pred_and_store(paths: List[pathlib.Path],\n",
        "           model: torch.nn.Module,\n",
        "           transform: torchvision.transforms,\n",
        "           class_names: List[str],\n",
        "           device: str = \"cuda\" if torch.cuda.is_available() else \"cpu\"       ) -> List[Dict] :\n",
        "\n",
        "  # 2. Create an empty list to store prediction dictionaires\n",
        "  pred_list = []\n",
        "\n",
        "  # 3. Loop through target paths\n",
        "  for path in tqdm(paths):\n",
        "\n",
        "    # 4. Create empty dictionary to store prediction information for each sample\n",
        "    pred_dict = {}\n",
        "\n",
        "    # 5. Get the sample path and ground truth class name\n",
        "    pred_dict[\"image_path\"] = path\n",
        "    class_name = path.parent.stem\n",
        "    pred_dict[\"class_name\"] = class_name\n",
        "\n",
        "    # 6. Start the prediction timer\n",
        "    start_time = timer()\n",
        "\n",
        "    # 7. Open image path\n",
        "    img = Image.open(path)\n",
        "\n",
        "    # 8. Transform the image, add batch dimension and put image on target device\n",
        "    transformed_image = transform(img).unsqueeze(0).to(device)\n",
        "\n",
        "    # 9. Prepare model for inference by sending it to target device and turning on eval() mode\n",
        "    model.to(device) # model = model.to(device)\n",
        "    model.eval()\n",
        "\n",
        "    # 10. Get prediction probability, predicition label and prediction class\n",
        "    with torch.inference_mode():\n",
        "      \"\"\"perform inference on target sample\"\"\"\n",
        "      pred_logit = model(transformed_image)\n",
        "      \"\"\"# turn logits into prediction probabilities\"\"\"\n",
        "      pred_prob = torch.softmax(pred_logit,dim=1)\n",
        "      \"\"\"# turn prediction probabilities into prediction label\"\"\"\n",
        "      pred_label = torch.argmax(pred_prob,dim=1)\n",
        "      \"\"\"# hardcode prediction class to be on CPU\"\"\"\n",
        "      pred_class = class_names[pred_label.cpu()]\n",
        "\n",
        "      # 11. Make sure things in the dictionary are on CPU (required for inspecting predictions later on)\n",
        "      pred_dict[\"pred_prob\"] = round(pred_prob.unsqueeze(0).max().cpu().item(),4)\n",
        "      \"\"\".unsqueeze(0)與.cpu()不需要\"\"\"\n",
        "      pred_dict[\"pred_class\"] = pred_class\n",
        "\n",
        "    # 12. End the timer and calculate time per pred\n",
        "    end_time = timer()\n",
        "    pred_dict[\"time_for_pred\"] = round(end_time-start_time, 4)\n",
        "\n",
        "    # 13. Does the pred match the true label?\n",
        "    pred_dict[\"correct\"] = pred_class == class_name\n",
        "\n",
        "    # 14. Add the dictionary to the list of preds\n",
        "    pred_list.append(pred_dict)\n",
        "\n",
        "  # 15. Return list of prediction dictionaries\n",
        "  return pred_list\n",
        "\n",
        "\n",
        "\n"
      ],
      "metadata": {
        "id": "Z6JIa1bpCVlA",
        "colab": {
          "base_uri": "https://localhost:8080/",
          "height": 247
        },
        "outputId": "19db5234-752c-499b-c5cf-2ed2c032eb1b"
      },
      "execution_count": 1,
      "outputs": [
        {
          "output_type": "error",
          "ename": "NameError",
          "evalue": "ignored",
          "traceback": [
            "\u001b[0;31m---------------------------------------------------------------------------\u001b[0m",
            "\u001b[0;31mNameError\u001b[0m                                 Traceback (most recent call last)",
            "\u001b[0;32m<ipython-input-1-1a416aae822d>\u001b[0m in \u001b[0;36m<cell line: 14>\u001b[0;34m()\u001b[0m\n\u001b[1;32m     10\u001b[0m def pred_and_store(paths: List[pathlib.Path],\n\u001b[1;32m     11\u001b[0m            \u001b[0mmodel\u001b[0m\u001b[0;34m:\u001b[0m \u001b[0mtorch\u001b[0m\u001b[0;34m.\u001b[0m\u001b[0mnn\u001b[0m\u001b[0;34m.\u001b[0m\u001b[0mModule\u001b[0m\u001b[0;34m,\u001b[0m\u001b[0;34m\u001b[0m\u001b[0;34m\u001b[0m\u001b[0m\n\u001b[0;32m---> 12\u001b[0;31m            \u001b[0mtransform\u001b[0m\u001b[0;34m:\u001b[0m \u001b[0mtorchvision\u001b[0m\u001b[0;34m.\u001b[0m\u001b[0mtransforms\u001b[0m\u001b[0;34m,\u001b[0m\u001b[0;34m\u001b[0m\u001b[0;34m\u001b[0m\u001b[0m\n\u001b[0m\u001b[1;32m     13\u001b[0m            \u001b[0mclass_names\u001b[0m\u001b[0;34m:\u001b[0m \u001b[0mList\u001b[0m\u001b[0;34m[\u001b[0m\u001b[0mstr\u001b[0m\u001b[0;34m]\u001b[0m\u001b[0;34m,\u001b[0m\u001b[0;34m\u001b[0m\u001b[0;34m\u001b[0m\u001b[0m\n\u001b[1;32m     14\u001b[0m            device: str = \"cuda\" if torch.cuda.is_available() else \"cpu\"       ) -> List[Dict] :\n",
            "\u001b[0;31mNameError\u001b[0m: name 'torchvision' is not defined"
          ]
        }
      ]
    },
    {
      "cell_type": "code",
      "source": [
        "effnetb2_transforms"
      ],
      "metadata": {
        "id": "XPhIj_h1NSMf"
      },
      "execution_count": null,
      "outputs": []
    },
    {
      "cell_type": "markdown",
      "source": [
        "### <font color=\"purple\">Make and time predictions on CPU"
      ],
      "metadata": {
        "id": "hZirCTiqbOPD"
      }
    },
    {
      "cell_type": "code",
      "source": [
        "# Make and time predictions on CPU\n",
        "effnetb2_preds_on_cpu = pred_and_store(paths=test_image_paths,\n",
        "                      model=effnetb2,\n",
        "                      transform=effnetb2_transforms,\n",
        "                      class_names=class_names,\n",
        "                      device=\"cpu\")"
      ],
      "metadata": {
        "id": "abDZnObTNR7X"
      },
      "execution_count": null,
      "outputs": []
    },
    {
      "cell_type": "code",
      "source": [
        "# Make and time predictions on CPU\n",
        "vit_preds_on_cpu = pred_and_store(paths=test_image_paths,\n",
        "                   model=vit,\n",
        "                   transform=vit_transforms,\n",
        "                   class_names=class_names,\n",
        "                   device=\"cpu\")"
      ],
      "metadata": {
        "id": "ORGto_LyjNh7"
      },
      "execution_count": null,
      "outputs": []
    },
    {
      "cell_type": "markdown",
      "source": [
        "### <font color=\"purple\">Make and time predictions on GPU"
      ],
      "metadata": {
        "id": "l6JJDONtm_OH"
      }
    },
    {
      "cell_type": "code",
      "source": [
        "effnetb2_preds_on_gpu = pred_and_store(paths=test_image_paths,\n",
        "                      model=effnetb2,\n",
        "                      transform=effnetb2_transforms,\n",
        "                      class_names=class_names,\n",
        "                      device=\"cuda\")\n",
        "\n",
        "vit_preds_on_gpu = pred_and_store(paths=test_image_paths,\n",
        "                   model=vit,\n",
        "                   transform=vit_transforms,\n",
        "                   class_names=class_names,\n",
        "                   device=\"cuda\")"
      ],
      "metadata": {
        "id": "EBN5qEKwnBAv"
      },
      "execution_count": null,
      "outputs": []
    },
    {
      "cell_type": "markdown",
      "source": [
        "### <font color=\"purple\">Comparing prediction times on CPU and GPU"
      ],
      "metadata": {
        "id": "0iP1xzpOnUnb"
      }
    },
    {
      "cell_type": "code",
      "source": [
        "# input 是 predictions 結果\n",
        "import pandas as pd\n",
        "\n",
        "def get_mean_pred_time(input):\n",
        "  df = pd.DataFrame(input)\n",
        "  return df.time_for_pred.mean()\n",
        "\n",
        "effnetb2_cpu_pred_time = get_mean_pred_time(effnetb2_preds_on_cpu)\n",
        "effnetb2_cpu_pred_time"
      ],
      "metadata": {
        "id": "igWfyYH_nAxd"
      },
      "execution_count": null,
      "outputs": []
    },
    {
      "cell_type": "code",
      "source": [
        "effnetb2_gpu_pred_time = get_mean_pred_time(effnetb2_preds_on_gpu)\n",
        "vit_cpu_pred_time = get_mean_pred_time(vit_preds_on_cpu)\n",
        "vit_gpu_pred_time = get_mean_pred_time(vit_preds_on_gpu)\n",
        "\n",
        "pred_times = {\"effnetb2_cpu\": effnetb2_cpu_pred_time,\n",
        "        \"vit_cpu\": vit_cpu_pred_time,\n",
        "        \"effnetb2_gpu\": effnetb2_gpu_pred_time,\n",
        "        \"vit_gpu\": vit_gpu_pred_time}\n",
        "\n",
        "pred_times_df = pd.DataFrame(pred_times, index=[0])\n",
        "pred_times_df"
      ],
      "metadata": {
        "id": "ZItg9rocsLk-"
      },
      "execution_count": null,
      "outputs": []
    },
    {
      "cell_type": "code",
      "source": [],
      "metadata": {
        "id": "EsS2LHGgsLTG"
      },
      "execution_count": null,
      "outputs": []
    },
    {
      "cell_type": "code",
      "source": [],
      "metadata": {
        "id": "zrO56uxYnAmM"
      },
      "execution_count": null,
      "outputs": []
    },
    {
      "cell_type": "markdown",
      "source": [
        "<font color=\"purple\">It looks like the predictions on the GPU are much faster than the CPU overall.\n",
        "\n",
        "<font color=\"purple\">And it looks like the ViT model is faster than EffNetB2 on the GPU as well.\n",
        "\n",
        "<font color=\"purple\">So potentially if we had access to a GPU in deployment, a ViT model would be better due to having lower latency (prediction time) as well as better performance.\n",
        "\n",
        "<font color=\"purple\">But if we're focused on deploying to CPU, EffNetB2 wins because of good performance + faster inference time."
      ],
      "metadata": {
        "id": "hqoCnKxhnaUD"
      }
    },
    {
      "cell_type": "markdown",
      "metadata": {
        "id": "MBWnDZao9w_5"
      },
      "source": [
        "## Exercise 2. The ViT feature extractor seems to have more learning capacity (due to more parameters) than EffNetB2, how does it go on the larger 20% split of the entire Food101 dataset?\n",
        "\n",
        "* Train a ViT feature extractor on the 20% Food101 dataset for 5 epochs, just like we did with EffNetB2 in section [10. Creating FoodVision Big](https://www.learnpytorch.io/09_pytorch_model_deployment/#10-creating-foodvision-big)."
      ]
    },
    {
      "cell_type": "markdown",
      "source": [
        "<font color=\"purple\">Want to download and split whole Food101 dataset into 20% dataset.\n",
        "\n",
        "<font color=\"purple\">E.g. instead of training on all ~100,000 images in Food101, only train and test on ~20,000 (to save time experimenting)."
      ],
      "metadata": {
        "id": "8D6hhyDR2pIB"
      }
    },
    {
      "cell_type": "code",
      "execution_count": null,
      "metadata": {
        "id": "NFXVZNCzVYgV"
      },
      "outputs": [],
      "source": [
        "# TODO: your code"
      ]
    },
    {
      "cell_type": "markdown",
      "source": [
        "### <font color=\"purple\">Create ViT feature extractor for Food101\n",
        "\n",
        "<font color=\"purple\">Need to get a ViT model capable of fitting on Food101 data (freeze the base layers and update the output layers to work with 101 classes)."
      ],
      "metadata": {
        "id": "v91K0rPm29jF"
      }
    },
    {
      "cell_type": "code",
      "source": [
        "# Create another ViT feature model instance\n",
        "vit_food101_20_percent, vit_transforms = create_vit_model(num_classes=101)\n",
        "\n",
        "# Print ViT model summary (uncomment for full output)\n",
        "from torchinfo import summary\n",
        "summary(vit_food101_20_percent,\n",
        "    input_size=(1, 3, 224, 224),\n",
        "    col_names=[\"input_size\", \"output_size\", \"num_params\", \"trainable\"],\n",
        "    col_width=20,\n",
        "    row_settings=[\"var_names\"])\n"
      ],
      "metadata": {
        "id": "sgjlRWer5tAG",
        "outputId": "0ccf56a8-6168-4bf8-b9bf-15562c68e8c9",
        "colab": {
          "base_uri": "https://localhost:8080/"
        }
      },
      "execution_count": 9,
      "outputs": [
        {
          "output_type": "execute_result",
          "data": {
            "text/plain": [
              "============================================================================================================================================\n",
              "Layer (type (var_name))                                      Input Shape          Output Shape         Param #              Trainable\n",
              "============================================================================================================================================\n",
              "VisionTransformer (VisionTransformer)                        [1, 3, 224, 224]     [1, 1000]            78,437               Partial\n",
              "├─Conv2d (conv_proj)                                         [1, 3, 224, 224]     [1, 768, 14, 14]     (590,592)            False\n",
              "├─Encoder (encoder)                                          [1, 197, 768]        [1, 197, 768]        151,296              False\n",
              "│    └─Dropout (dropout)                                     [1, 197, 768]        [1, 197, 768]        --                   --\n",
              "│    └─Sequential (layers)                                   [1, 197, 768]        [1, 197, 768]        --                   False\n",
              "│    │    └─EncoderBlock (encoder_layer_0)                   [1, 197, 768]        [1, 197, 768]        (7,087,872)          False\n",
              "│    │    └─EncoderBlock (encoder_layer_1)                   [1, 197, 768]        [1, 197, 768]        (7,087,872)          False\n",
              "│    │    └─EncoderBlock (encoder_layer_2)                   [1, 197, 768]        [1, 197, 768]        (7,087,872)          False\n",
              "│    │    └─EncoderBlock (encoder_layer_3)                   [1, 197, 768]        [1, 197, 768]        (7,087,872)          False\n",
              "│    │    └─EncoderBlock (encoder_layer_4)                   [1, 197, 768]        [1, 197, 768]        (7,087,872)          False\n",
              "│    │    └─EncoderBlock (encoder_layer_5)                   [1, 197, 768]        [1, 197, 768]        (7,087,872)          False\n",
              "│    │    └─EncoderBlock (encoder_layer_6)                   [1, 197, 768]        [1, 197, 768]        (7,087,872)          False\n",
              "│    │    └─EncoderBlock (encoder_layer_7)                   [1, 197, 768]        [1, 197, 768]        (7,087,872)          False\n",
              "│    │    └─EncoderBlock (encoder_layer_8)                   [1, 197, 768]        [1, 197, 768]        (7,087,872)          False\n",
              "│    │    └─EncoderBlock (encoder_layer_9)                   [1, 197, 768]        [1, 197, 768]        (7,087,872)          False\n",
              "│    │    └─EncoderBlock (encoder_layer_10)                  [1, 197, 768]        [1, 197, 768]        (7,087,872)          False\n",
              "│    │    └─EncoderBlock (encoder_layer_11)                  [1, 197, 768]        [1, 197, 768]        (7,087,872)          False\n",
              "│    └─LayerNorm (ln)                                        [1, 197, 768]        [1, 197, 768]        (1,536)              False\n",
              "├─Sequential (heads)                                         [1, 768]             [1, 1000]            --                   False\n",
              "│    └─Linear (head)                                         [1, 768]             [1, 1000]            (769,000)            False\n",
              "============================================================================================================================================\n",
              "Total params: 86,645,325\n",
              "Trainable params: 77,669\n",
              "Non-trainable params: 86,567,656\n",
              "Total mult-adds (M): 173.23\n",
              "============================================================================================================================================\n",
              "Input size (MB): 0.60\n",
              "Forward/backward pass size (MB): 104.09\n",
              "Params size (MB): 232.27\n",
              "Estimated Total Size (MB): 336.96\n",
              "============================================================================================================================================"
            ]
          },
          "metadata": {},
          "execution_count": 9
        }
      ]
    },
    {
      "cell_type": "markdown",
      "source": [
        "### <font color=\"purple\">Create Food101 data transforms\n",
        "\n",
        "<font color=\"purple\">Because of the large amount of data, going to use data augmentation to (hopefully) prevent overfitting.\n",
        "\n",
        "<font color=\"purple\">See here: https://www.learnpytorch.io/04_pytorch_custom_datasets/#81-how-to-deal-with-overfitting"
      ],
      "metadata": {
        "id": "R5aF5SOs8MFG"
      }
    },
    {
      "cell_type": "code",
      "source": [
        "# Create Food101 training data transforms (only perform data augmentation on the training images)\n",
        "\n",
        "food101_train_transforms = torchvision.transforms.Compose([\n",
        "    torchvision.transforms.TrivialAugmentWide(),\n",
        "    vit_transforms,\n",
        "])\n",
        "\n",
        "food101_train_transforms"
      ],
      "metadata": {
        "id": "6uuFXKl-8YIc",
        "outputId": "d1bb7d3a-c5a1-4208-849b-75528df82c3c",
        "colab": {
          "base_uri": "https://localhost:8080/"
        }
      },
      "execution_count": 10,
      "outputs": [
        {
          "output_type": "execute_result",
          "data": {
            "text/plain": [
              "Compose(\n",
              "    TrivialAugmentWide(num_magnitude_bins=31, interpolation=InterpolationMode.NEAREST, fill=None)\n",
              "    ImageClassification(\n",
              "    crop_size=[224]\n",
              "    resize_size=[256]\n",
              "    mean=[0.485, 0.456, 0.406]\n",
              "    std=[0.229, 0.224, 0.225]\n",
              "    interpolation=InterpolationMode.BILINEAR\n",
              ")\n",
              ")"
            ]
          },
          "metadata": {},
          "execution_count": 10
        }
      ]
    },
    {
      "cell_type": "code",
      "source": [
        "from torchvision import datasets\n",
        "\n",
        "\n",
        "# Setup data directory\n",
        "from pathlib import Path\n",
        "data_dir = Path(\"data\")\n",
        "\n",
        "# Get training data (~750 images x 101 food classes)\n",
        "train_data = datasets.Food101(root=data_dir, # path to download data to\n",
        "                 split=\"train\", # dataset split to get\n",
        "                 transform=food101_train_transforms, # perform data augmentation on training data\n",
        "                 download=True) # want to download?\n",
        "\n",
        "\n",
        "# Get testing data (~250 images x 101 food classes)\n",
        "test_data = datasets.Food101(root=data_dir,\n",
        "                 split=\"test\",\n",
        "                 transform=food101_train_transforms, # perform data augmentation on test data\n",
        "                 download=True) # want to download?\n",
        "\n"
      ],
      "metadata": {
        "id": "mfooiNnX8X06",
        "outputId": "65bdc0eb-e928-44bb-a408-3cbc1b28e29b",
        "colab": {
          "base_uri": "https://localhost:8080/"
        }
      },
      "execution_count": 11,
      "outputs": [
        {
          "output_type": "stream",
          "name": "stdout",
          "text": [
            "Downloading https://data.vision.ee.ethz.ch/cvl/food-101.tar.gz to data/food-101.tar.gz\n"
          ]
        },
        {
          "output_type": "stream",
          "name": "stderr",
          "text": [
            "100%|██████████| 4996278331/4996278331 [03:28<00:00, 23910010.90it/s]\n"
          ]
        },
        {
          "output_type": "stream",
          "name": "stdout",
          "text": [
            "Extracting data/food-101.tar.gz to data\n"
          ]
        }
      ]
    },
    {
      "cell_type": "code",
      "source": [
        "# Get Food101 class names\n",
        "food101_class_names = train_data.classes\n",
        "\n",
        "# View the first 10\n",
        "food101_class_names[:10]\n"
      ],
      "metadata": {
        "id": "O6glzJTm5sr2",
        "outputId": "9c3c6442-85b8-46ef-88a2-f94447b31d59",
        "colab": {
          "base_uri": "https://localhost:8080/"
        }
      },
      "execution_count": 13,
      "outputs": [
        {
          "output_type": "execute_result",
          "data": {
            "text/plain": [
              "['apple_pie',\n",
              " 'baby_back_ribs',\n",
              " 'baklava',\n",
              " 'beef_carpaccio',\n",
              " 'beef_tartare',\n",
              " 'beet_salad',\n",
              " 'beignets',\n",
              " 'bibimbap',\n",
              " 'bread_pudding',\n",
              " 'breakfast_burrito']"
            ]
          },
          "metadata": {},
          "execution_count": 13
        }
      ]
    },
    {
      "cell_type": "code",
      "source": [
        "len(train_data)"
      ],
      "metadata": {
        "id": "s0YaA1WnctMG",
        "outputId": "44e5c82a-c810-4709-ada9-48a7ddb3cd0d",
        "colab": {
          "base_uri": "https://localhost:8080/"
        }
      },
      "execution_count": 14,
      "outputs": [
        {
          "output_type": "execute_result",
          "data": {
            "text/plain": [
              "75750"
            ]
          },
          "metadata": {},
          "execution_count": 14
        }
      ]
    },
    {
      "cell_type": "markdown",
      "source": [
        "### <font color=\"purple\">Create Food101 20% data splits\n",
        "\n",
        "<font color=\"purple\">Want to split whole Food101 dataset into:\n",
        "* <font color=\"purple\">Train set: 20% of whole original Food101 train dataset\n",
        "* <font color=\"purple\">Test set: 20% of whole original Food101 test dataset"
      ],
      "metadata": {
        "id": "fSppLsCdacYE"
      }
    },
    {
      "cell_type": "code",
      "source": [
        "def split_dataset(dataset:torchvision.datasets, split_size:float=0.2, seed:int=42):\n",
        "  \"\"\"Randomly splits a given dataset into two proportions based on split_size and seed.\n",
        "\n",
        "    Args:\n",
        "      dataset (torchvision.datasets): A PyTorch Dataset, typically one from torchvision.datasets.\n",
        "      split_size (float, optional): How much of the dataset should be split?\n",
        "          E.g. split_size=0.2 means there will be a 20% split and an 80% split. Defaults to 0.2.\n",
        "      seed (int, optional): Seed for random generator. Defaults to 42.\n",
        "\n",
        "    Returns:\n",
        "      tuple: (random_split_1, random_split_2) where random_split_1 is of size split_size*len(dataset) and\n",
        "          random_split_2 is of size (1-split_size)*len(dataset).\n",
        "  \"\"\"\n",
        "  # Create split lengths based on original dataset length\n",
        "  length_1 = int(len(dataset)*split_size) # desired length\n",
        "  length_2 = len(dataset) - length_1 # remaining length\n",
        "\n",
        "  # Print out info\n",
        "  print(f\"[INFO] Splitting dataset of length {len(dataset)} into splits of size: {length_1} ({int(split_size*100)}%), {length_2} ({int((1-split_size)*100)}%)\")\n",
        "\n",
        "\n",
        "  # Create splits with given random seed\n",
        "  random_split_1, random_split_2 = torch.utils.data.random_split(dataset,\n",
        "                                     lengths=[length_1,length_2],\n",
        "                                     generator= torch.manual_seed(seed))\n",
        "\n",
        "  return random_split_1, random_split_2"
      ],
      "metadata": {
        "id": "t-D-jf7-2lKA"
      },
      "execution_count": 21,
      "outputs": []
    },
    {
      "cell_type": "code",
      "source": [
        "# Create training 20% split of Food101\n",
        "train_data_food101_20_percent, _ = split_dataset(dataset=train_data, split_size=0.2)\n",
        "\n",
        "# Create testing 20% split of Food101\n",
        "test_data_food101_20_percent, _ = split_dataset(dataset=test_data, split_size=0.2)\n",
        "\n",
        "\n",
        "len(train_data_food101_20_percent), len(test_data_food101_20_percent)"
      ],
      "metadata": {
        "id": "OE7rKdy9akGb",
        "outputId": "f0bd09bd-5243-4ead-ef8a-9db5b85df1d1",
        "colab": {
          "base_uri": "https://localhost:8080/"
        }
      },
      "execution_count": 22,
      "outputs": [
        {
          "output_type": "stream",
          "name": "stdout",
          "text": [
            "[INFO] Splitting dataset of length 75750 into splits of size: 15150 (20%), 60600 (80%)\n",
            "[INFO] Splitting dataset of length 25250 into splits of size: 5050 (20%), 20200 (80%)\n"
          ]
        },
        {
          "output_type": "execute_result",
          "data": {
            "text/plain": [
              "(15150, 5050)"
            ]
          },
          "metadata": {},
          "execution_count": 22
        }
      ]
    },
    {
      "cell_type": "markdown",
      "source": [
        "### <font color=\"purple\">Create DataLoaders for Food101 20 percent data"
      ],
      "metadata": {
        "id": "vWVLBzupv46y"
      }
    },
    {
      "cell_type": "code",
      "source": [
        "# Turn torch Datasets into DataLoaders\n",
        "from torch.utils.data import DataLoader\n",
        "\n",
        "BATCH_SIZE = 32\n",
        "NUM_WORKERS = 2\n",
        "train_dataloader_food101 = DataLoader(dataset=train_data_food101_20_percent,\n",
        "                      batch_size=BATCH_SIZE,\n",
        "                      shuffle=True,\n",
        "                      num_workers=NUM_WORKERS)\n",
        "\n",
        "\n",
        "\n",
        "test_dataloader_food101 = DataLoader(dataset=test_data_food101_20_percent,\n",
        "                     batch_size=BATCH_SIZE,\n",
        "                     shuffle=True,\n",
        "                     num_workers=NUM_WORKERS)\n",
        "\n",
        "\n",
        "\n",
        "\n",
        "len(train_dataloader_food101), len(test_dataloader_food101)"
      ],
      "metadata": {
        "id": "ATpdb08daj5M",
        "outputId": "2db97b9b-b5cf-42bb-d810-14d40ad865a6",
        "colab": {
          "base_uri": "https://localhost:8080/"
        }
      },
      "execution_count": 23,
      "outputs": [
        {
          "output_type": "execute_result",
          "data": {
            "text/plain": [
              "(474, 158)"
            ]
          },
          "metadata": {},
          "execution_count": 23
        }
      ]
    },
    {
      "cell_type": "markdown",
      "source": [
        "### <font color=\"purple\">Train ViT feature extractor on 20% of Food101 data\n",
        "\n",
        "<font color=\"purple\">**Note:** The cell below may take 15 mins to run on Google Colab (due to ~15,000 training images and ~5000 testing images)."
      ],
      "metadata": {
        "id": "rfflCvd33ZeU"
      }
    },
    {
      "cell_type": "code",
      "source": [
        "# Loss function\n",
        "loss_fn = torch.nn.CrossEntropyLoss(label_smoothing=0.1)\n",
        "\n",
        "# Optimizer\n",
        "optimizer = torch.optim.Adam(params=vit_food101_20_percent,\n",
        "                lr=1e-3)\n",
        "\n",
        "# Train the model\n",
        "set_seeds()\n",
        "vit_food101_20_percent_results = engine.train(model=vit_food101_20_percent,\n",
        "                          train_dataloader=train_dataloader_food101,\n",
        "                          test_dataloader=test_dataloader_food101,\n",
        "                          epochs=5,\n",
        "                          optimizer=optimizer,\n",
        "                          loss_fn=loss_fn,\n",
        "                          device=device)"
      ],
      "metadata": {
        "id": "MFuHXze73jwE"
      },
      "execution_count": null,
      "outputs": []
    },
    {
      "cell_type": "code",
      "source": [],
      "metadata": {
        "id": "zztX0TCA3iwe"
      },
      "execution_count": null,
      "outputs": []
    },
    {
      "cell_type": "code",
      "source": [],
      "metadata": {
        "id": "5QcpeZ8iajuS"
      },
      "execution_count": null,
      "outputs": []
    },
    {
      "cell_type": "markdown",
      "metadata": {
        "id": "aTKbje-e9118"
      },
      "source": [
        "## Exercise 3. Make predictions across the 20% Food101 test dataset with the ViT feature extractor from exercise 2 and find the \"most wrong\" predictions\n",
        "* The predictions will be the ones with the highest prediction probability but with the wrong predicted label.\n",
        "* Write a sentence or two about why you think the model got these predictions wrong."
      ]
    },
    {
      "cell_type": "code",
      "execution_count": null,
      "metadata": {
        "id": "R7iKYRAUVkA7"
      },
      "outputs": [],
      "source": [
        "# TODO: your code"
      ]
    },
    {
      "cell_type": "code",
      "source": [
        "# Loop through test DataLoader (with batch size 1)\n",
        "# Make prediction with model\n",
        "# Store prediction and prediction probability to dictionary\n",
        "# Append dictionary to list\n",
        "# Inspect list\n",
        "\n",
        "# Easy way: set up batch size of 1 of test data loader - from Sali1997s\n",
        "# Create batch size of 1 (predict on 1 image at a time)\n",
        "test_dataloader_food101_batch_size_1 = DataLoader(test_data_food101_20_percent,\n",
        "                            batch_size=1,\n",
        "                            shuffle=False,\n",
        "                            num_workers=NUM_WORKERS)\n",
        "\n",
        "# Prepare model (do this outside the loop)\n",
        "vit_food101_20_percent = vit_food101_20_percent.to(device)\n",
        "vit_food101_20_percent.eval()\n",
        "\n",
        "\n",
        "# Loop through test DataLoader with batch size 1 and make predictions on each image\n",
        "# store predictions and truth values to a dictionary and then append dictionary to list for inspection later\n",
        "\n",
        "\n",
        "\n"
      ],
      "metadata": {
        "id": "OIFPoXi76KzE"
      },
      "execution_count": null,
      "outputs": []
    },
    {
      "cell_type": "code",
      "source": [],
      "metadata": {
        "id": "CfZzwVig6KnF"
      },
      "execution_count": null,
      "outputs": []
    },
    {
      "cell_type": "code",
      "source": [],
      "metadata": {
        "id": "Jxh-Jjfm6Kax"
      },
      "execution_count": null,
      "outputs": []
    },
    {
      "cell_type": "code",
      "source": [],
      "metadata": {
        "id": "xA3GdUmN6KC1"
      },
      "execution_count": null,
      "outputs": []
    },
    {
      "cell_type": "markdown",
      "metadata": {
        "id": "LH-vHr3m9_oH"
      },
      "source": [
        "## Exercise 4. Evaluate the ViT feature extractor across the whole Food101 test dataset rather than just the 20% version, how does it perform?\n",
        "* Does it beat the original Food101 paper's best result of 56.4% accuracy?"
      ]
    },
    {
      "cell_type": "code",
      "execution_count": null,
      "metadata": {
        "id": "dWxceTz3VmeB"
      },
      "outputs": [],
      "source": [
        "# TODO: your code"
      ]
    },
    {
      "cell_type": "markdown",
      "metadata": {
        "id": "ZLcCgRhS-OhV"
      },
      "source": [
        "## Exercise 5. Head to [Paperswithcode.com](https://paperswithcode.com/) and find the current best performing model on the Food101 dataset.\n",
        "* What model architecture does it use?"
      ]
    },
    {
      "cell_type": "code",
      "execution_count": null,
      "metadata": {
        "id": "7HwonCSsVtnr"
      },
      "outputs": [],
      "source": [
        "# TODO: your answer to the above"
      ]
    },
    {
      "cell_type": "markdown",
      "metadata": {
        "id": "ujfO-mmmHfUZ"
      },
      "source": [
        "## Exercise 6. Write down 1-3 potential failure points of our deployed FoodVision models and what some potential solutions might be.\n",
        "* For example, what happens if someone was to upload a photo that wasn't of food to our FoodVision Mini model?"
      ]
    },
    {
      "cell_type": "code",
      "execution_count": null,
      "metadata": {
        "id": "fEmSj0f3HevI"
      },
      "outputs": [],
      "source": [
        "# TODO: your answer to the above"
      ]
    },
    {
      "cell_type": "markdown",
      "metadata": {
        "id": "NkHIwxA2Hj7j"
      },
      "source": [
        "## Exercise 7. Pick any dataset from [`torchvision.datasets`](https://pytorch.org/vision/stable/datasets.html) and train a feature extractor model on it using a model from [`torchvision.models`](https://pytorch.org/vision/stable/models.html) (you could use one of the model's we've already created, e.g. EffNetB2 or ViT) for 5 epochs and then deploy your model as a Gradio app to Hugging Face Spaces.\n",
        "* You may want to pick smaller dataset/make a smaller split of it so training doesn't take too long.\n",
        "* I'd love to see your deployed models! So be sure to share them in Discord or on the [course GitHub Discussions page](https://github.com/mrdbourke/pytorch-deep-learning/discussions)."
      ]
    },
    {
      "cell_type": "code",
      "execution_count": null,
      "metadata": {
        "id": "0URR1A8_HobF"
      },
      "outputs": [],
      "source": [
        "# TODO: your code"
      ]
    }
  ],
  "metadata": {
    "colab": {
      "name": "09_pytorch_model_deployment_exercises.ipynb",
      "provenance": [],
      "include_colab_link": true
    },
    "kernelspec": {
      "display_name": "Python 3",
      "name": "python3"
    },
    "language_info": {
      "codemirror_mode": {
        "name": "ipython",
        "version": 3
      },
      "file_extension": ".py",
      "mimetype": "text/x-python",
      "name": "python",
      "nbconvert_exporter": "python",
      "pygments_lexer": "ipython3",
      "version": "3.8.13"
    },
    "vscode": {
      "interpreter": {
        "hash": "3fbe1355223f7b2ffc113ba3ade6a2b520cadace5d5ec3e828c83ce02eb221bf"
      }
    },
    "widgets": {
      "application/vnd.jupyter.widget-state+json": {
        "a373a95ed62c46ffbe4421fc7614397d": {
          "model_module": "@jupyter-widgets/controls",
          "model_name": "HBoxModel",
          "model_module_version": "1.5.0",
          "state": {
            "_dom_classes": [],
            "_model_module": "@jupyter-widgets/controls",
            "_model_module_version": "1.5.0",
            "_model_name": "HBoxModel",
            "_view_count": null,
            "_view_module": "@jupyter-widgets/controls",
            "_view_module_version": "1.5.0",
            "_view_name": "HBoxView",
            "box_style": "",
            "children": [
              "IPY_MODEL_59d6614f81324c098405266d5baf47d9",
              "IPY_MODEL_ed4f9cbde4bc407386dc844b22436845",
              "IPY_MODEL_304f77fd193a4c9781fb2766df443f2c"
            ],
            "layout": "IPY_MODEL_18b48498cec043cba689858c4229ac9e"
          }
        },
        "59d6614f81324c098405266d5baf47d9": {
          "model_module": "@jupyter-widgets/controls",
          "model_name": "HTMLModel",
          "model_module_version": "1.5.0",
          "state": {
            "_dom_classes": [],
            "_model_module": "@jupyter-widgets/controls",
            "_model_module_version": "1.5.0",
            "_model_name": "HTMLModel",
            "_view_count": null,
            "_view_module": "@jupyter-widgets/controls",
            "_view_module_version": "1.5.0",
            "_view_name": "HTMLView",
            "description": "",
            "description_tooltip": null,
            "layout": "IPY_MODEL_a70356da9f46438e87dc6a67f7fd8a39",
            "placeholder": "​",
            "style": "IPY_MODEL_022440438e244be2a72512ff4f72eb39",
            "value": "100%"
          }
        },
        "ed4f9cbde4bc407386dc844b22436845": {
          "model_module": "@jupyter-widgets/controls",
          "model_name": "FloatProgressModel",
          "model_module_version": "1.5.0",
          "state": {
            "_dom_classes": [],
            "_model_module": "@jupyter-widgets/controls",
            "_model_module_version": "1.5.0",
            "_model_name": "FloatProgressModel",
            "_view_count": null,
            "_view_module": "@jupyter-widgets/controls",
            "_view_module_version": "1.5.0",
            "_view_name": "ProgressView",
            "bar_style": "success",
            "description": "",
            "description_tooltip": null,
            "layout": "IPY_MODEL_c678be19cced435aae2c6fbd42ee6acc",
            "max": 10,
            "min": 0,
            "orientation": "horizontal",
            "style": "IPY_MODEL_0fec468f1f19420ba0a7fa3c459fd4a6",
            "value": 10
          }
        },
        "304f77fd193a4c9781fb2766df443f2c": {
          "model_module": "@jupyter-widgets/controls",
          "model_name": "HTMLModel",
          "model_module_version": "1.5.0",
          "state": {
            "_dom_classes": [],
            "_model_module": "@jupyter-widgets/controls",
            "_model_module_version": "1.5.0",
            "_model_name": "HTMLModel",
            "_view_count": null,
            "_view_module": "@jupyter-widgets/controls",
            "_view_module_version": "1.5.0",
            "_view_name": "HTMLView",
            "description": "",
            "description_tooltip": null,
            "layout": "IPY_MODEL_3b1216cea7c5451abb82bbc749ff79ad",
            "placeholder": "​",
            "style": "IPY_MODEL_6ba1bc2493684fb3a8e554c7d4e1396f",
            "value": " 10/10 [27:04&lt;00:00, 159.24s/it]"
          }
        },
        "18b48498cec043cba689858c4229ac9e": {
          "model_module": "@jupyter-widgets/base",
          "model_name": "LayoutModel",
          "model_module_version": "1.2.0",
          "state": {
            "_model_module": "@jupyter-widgets/base",
            "_model_module_version": "1.2.0",
            "_model_name": "LayoutModel",
            "_view_count": null,
            "_view_module": "@jupyter-widgets/base",
            "_view_module_version": "1.2.0",
            "_view_name": "LayoutView",
            "align_content": null,
            "align_items": null,
            "align_self": null,
            "border": null,
            "bottom": null,
            "display": null,
            "flex": null,
            "flex_flow": null,
            "grid_area": null,
            "grid_auto_columns": null,
            "grid_auto_flow": null,
            "grid_auto_rows": null,
            "grid_column": null,
            "grid_gap": null,
            "grid_row": null,
            "grid_template_areas": null,
            "grid_template_columns": null,
            "grid_template_rows": null,
            "height": null,
            "justify_content": null,
            "justify_items": null,
            "left": null,
            "margin": null,
            "max_height": null,
            "max_width": null,
            "min_height": null,
            "min_width": null,
            "object_fit": null,
            "object_position": null,
            "order": null,
            "overflow": null,
            "overflow_x": null,
            "overflow_y": null,
            "padding": null,
            "right": null,
            "top": null,
            "visibility": null,
            "width": null
          }
        },
        "a70356da9f46438e87dc6a67f7fd8a39": {
          "model_module": "@jupyter-widgets/base",
          "model_name": "LayoutModel",
          "model_module_version": "1.2.0",
          "state": {
            "_model_module": "@jupyter-widgets/base",
            "_model_module_version": "1.2.0",
            "_model_name": "LayoutModel",
            "_view_count": null,
            "_view_module": "@jupyter-widgets/base",
            "_view_module_version": "1.2.0",
            "_view_name": "LayoutView",
            "align_content": null,
            "align_items": null,
            "align_self": null,
            "border": null,
            "bottom": null,
            "display": null,
            "flex": null,
            "flex_flow": null,
            "grid_area": null,
            "grid_auto_columns": null,
            "grid_auto_flow": null,
            "grid_auto_rows": null,
            "grid_column": null,
            "grid_gap": null,
            "grid_row": null,
            "grid_template_areas": null,
            "grid_template_columns": null,
            "grid_template_rows": null,
            "height": null,
            "justify_content": null,
            "justify_items": null,
            "left": null,
            "margin": null,
            "max_height": null,
            "max_width": null,
            "min_height": null,
            "min_width": null,
            "object_fit": null,
            "object_position": null,
            "order": null,
            "overflow": null,
            "overflow_x": null,
            "overflow_y": null,
            "padding": null,
            "right": null,
            "top": null,
            "visibility": null,
            "width": null
          }
        },
        "022440438e244be2a72512ff4f72eb39": {
          "model_module": "@jupyter-widgets/controls",
          "model_name": "DescriptionStyleModel",
          "model_module_version": "1.5.0",
          "state": {
            "_model_module": "@jupyter-widgets/controls",
            "_model_module_version": "1.5.0",
            "_model_name": "DescriptionStyleModel",
            "_view_count": null,
            "_view_module": "@jupyter-widgets/base",
            "_view_module_version": "1.2.0",
            "_view_name": "StyleView",
            "description_width": ""
          }
        },
        "c678be19cced435aae2c6fbd42ee6acc": {
          "model_module": "@jupyter-widgets/base",
          "model_name": "LayoutModel",
          "model_module_version": "1.2.0",
          "state": {
            "_model_module": "@jupyter-widgets/base",
            "_model_module_version": "1.2.0",
            "_model_name": "LayoutModel",
            "_view_count": null,
            "_view_module": "@jupyter-widgets/base",
            "_view_module_version": "1.2.0",
            "_view_name": "LayoutView",
            "align_content": null,
            "align_items": null,
            "align_self": null,
            "border": null,
            "bottom": null,
            "display": null,
            "flex": null,
            "flex_flow": null,
            "grid_area": null,
            "grid_auto_columns": null,
            "grid_auto_flow": null,
            "grid_auto_rows": null,
            "grid_column": null,
            "grid_gap": null,
            "grid_row": null,
            "grid_template_areas": null,
            "grid_template_columns": null,
            "grid_template_rows": null,
            "height": null,
            "justify_content": null,
            "justify_items": null,
            "left": null,
            "margin": null,
            "max_height": null,
            "max_width": null,
            "min_height": null,
            "min_width": null,
            "object_fit": null,
            "object_position": null,
            "order": null,
            "overflow": null,
            "overflow_x": null,
            "overflow_y": null,
            "padding": null,
            "right": null,
            "top": null,
            "visibility": null,
            "width": null
          }
        },
        "0fec468f1f19420ba0a7fa3c459fd4a6": {
          "model_module": "@jupyter-widgets/controls",
          "model_name": "ProgressStyleModel",
          "model_module_version": "1.5.0",
          "state": {
            "_model_module": "@jupyter-widgets/controls",
            "_model_module_version": "1.5.0",
            "_model_name": "ProgressStyleModel",
            "_view_count": null,
            "_view_module": "@jupyter-widgets/base",
            "_view_module_version": "1.2.0",
            "_view_name": "StyleView",
            "bar_color": null,
            "description_width": ""
          }
        },
        "3b1216cea7c5451abb82bbc749ff79ad": {
          "model_module": "@jupyter-widgets/base",
          "model_name": "LayoutModel",
          "model_module_version": "1.2.0",
          "state": {
            "_model_module": "@jupyter-widgets/base",
            "_model_module_version": "1.2.0",
            "_model_name": "LayoutModel",
            "_view_count": null,
            "_view_module": "@jupyter-widgets/base",
            "_view_module_version": "1.2.0",
            "_view_name": "LayoutView",
            "align_content": null,
            "align_items": null,
            "align_self": null,
            "border": null,
            "bottom": null,
            "display": null,
            "flex": null,
            "flex_flow": null,
            "grid_area": null,
            "grid_auto_columns": null,
            "grid_auto_flow": null,
            "grid_auto_rows": null,
            "grid_column": null,
            "grid_gap": null,
            "grid_row": null,
            "grid_template_areas": null,
            "grid_template_columns": null,
            "grid_template_rows": null,
            "height": null,
            "justify_content": null,
            "justify_items": null,
            "left": null,
            "margin": null,
            "max_height": null,
            "max_width": null,
            "min_height": null,
            "min_width": null,
            "object_fit": null,
            "object_position": null,
            "order": null,
            "overflow": null,
            "overflow_x": null,
            "overflow_y": null,
            "padding": null,
            "right": null,
            "top": null,
            "visibility": null,
            "width": null
          }
        },
        "6ba1bc2493684fb3a8e554c7d4e1396f": {
          "model_module": "@jupyter-widgets/controls",
          "model_name": "DescriptionStyleModel",
          "model_module_version": "1.5.0",
          "state": {
            "_model_module": "@jupyter-widgets/controls",
            "_model_module_version": "1.5.0",
            "_model_name": "DescriptionStyleModel",
            "_view_count": null,
            "_view_module": "@jupyter-widgets/base",
            "_view_module_version": "1.2.0",
            "_view_name": "StyleView",
            "description_width": ""
          }
        }
      }
    }
  },
  "nbformat": 4,
  "nbformat_minor": 0
}